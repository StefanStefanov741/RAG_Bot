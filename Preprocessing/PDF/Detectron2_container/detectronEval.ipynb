{
 "cells": [
  {
   "cell_type": "code",
   "execution_count": 1,
   "id": "f455a48b-cf2b-4ac4-a56d-267a8ae4a89b",
   "metadata": {},
   "outputs": [
    {
     "name": "stdout",
     "output_type": "stream",
     "text": [
      "Exception reporting mode: Verbose\n"
     ]
    }
   ],
   "source": [
    "%xmode verbose\n",
    "import torch\n",
    "import detectron2\n",
    "from detectron2.engine import DefaultPredictor\n",
    "from detectron2.config import get_cfg\n",
    "from detectron2 import model_zoo\n",
    "import layoutparser as lp\n",
    "\n",
    "from pdf2image import convert_from_path\n",
    "from PIL import Image\n",
    "\n",
    "#For Detectron2\n",
    "import torch\n",
    "import detectron2\n",
    "from detectron2.engine import DefaultPredictor\n",
    "from detectron2.config import get_cfg\n",
    "from detectron2 import model_zoo\n",
    "import layoutparser as lp\n",
    "\n",
    "import pytesseract\n",
    "from pytesseract import Output\n",
    "import matplotlib.pyplot as plt\n",
    "\n",
    "from PIL import Image\n",
    "import numpy as np\n",
    "import cv2\n",
    "\n",
    "import os\n",
    "\n",
    "os.chdir('..')\n",
    "\n",
    "path= ''\n",
    "prediction_score_threshold = 0.7\n",
    "class_labels = ['text', 'title', 'list', 'table', 'figure']\n",
    "\n",
    "# Set up Detectron2 config\n",
    "cfg = get_cfg()\n",
    "#The following line can be used instead of the one after it, however it causes warnings. (Find out why?)\n",
    "#cfg.merge_from_file(model_zoo.get_config_file(\"COCO-Detection/faster_rcnn_R_101_FPN_3x.yaml\"))\n",
    "cfg.merge_from_file(model_zoo.get_config_file(\"COCO-InstanceSegmentation/mask_rcnn_R_101_FPN_3x.yaml\"))\n",
    "cfg.MODEL.ROI_HEADS.SCORE_THRESH_TEST = 0.5  # set a threshold for predictions\n",
    "cfg.MODEL.WEIGHTS = path+ \"model_final.pth\" \n",
    "cfg.MODEL.ROI_HEADS.SCORE_THRESH_TEST = prediction_score_threshold\n",
    "cfg.MODEL.ROI_HEADS.NUM_CLASSES = 5\n",
    "\n",
    "cfg.MODEL.DEVICE = \"cpu\"\n",
    "\n",
    "\n",
    "\n",
    "predictor = DefaultPredictor(cfg)"
   ]
  },
  {
   "cell_type": "code",
   "execution_count": 2,
   "id": "d8ea1d68-efc4-4649-84d2-7827ed3cf7d7",
   "metadata": {},
   "outputs": [],
   "source": [
    "def detectron_boxes(images_folder, output_folder):\n",
    "    \"\"\"\n",
    "    Extracts the boxes and classes from images\n",
    "    \n",
    "    Args:\n",
    "    images_folder (String): Path to the images folder\n",
    "    output_folder (String): The location where all extracted information will be saved as txt files\n",
    "    \n",
    "    Returns:\n",
    "    For each image it creates a text file containing the relevant information\n",
    "    \"\"\"\n",
    "    \n",
    "    path = ''\n",
    "    prediction_score_threshold = 0.7\n",
    "    class_labels = ['text', 'title', 'list', 'table', 'figure']\n",
    "\n",
    "    # Set up Detectron2 config\n",
    "    cfg = get_cfg()\n",
    "    cfg.merge_from_file(model_zoo.get_config_file(\"COCO-Detection/faster_rcnn_R_101_FPN_3x.yaml\"))\n",
    "    cfg.MODEL.ROI_HEADS.SCORE_THRESH_TEST = 0.5  # set a threshold for predictions\n",
    "    cfg.MODEL.WEIGHTS = path + \"model_final.pth\"  # e.g., PubLayNet pre-trained model\n",
    "    cfg.MODEL.ROI_HEADS.SCORE_THRESH_TEST = prediction_score_threshold\n",
    "    cfg.MODEL.ROI_HEADS.NUM_CLASSES = 5\n",
    "\n",
    "    cfg.MODEL.DEVICE = \"cpu\"\n",
    "\n",
    "    # Initialize an empty list to store the content of each detected object\n",
    "    detected_texts = []\n",
    "\n",
    "    predictor = DefaultPredictor(cfg)\n",
    "    \n",
    "    # Ensure output folder exists\n",
    "    if not os.path.exists(output_folder):\n",
    "        print(f\"Output folder does not exist, creating: {output_folder}\")\n",
    "        os.makedirs(output_folder)\n",
    "\n",
    "    for image_name in os.listdir(images_folder):\n",
    "        image_path = os.path.join(images_folder, image_name)\n",
    "        current_image = cv2.imread(image_path)\n",
    "        img = np.array(current_image)\n",
    "\n",
    "        # Perform page object detection\n",
    "        outputs = predictor(img)\n",
    "\n",
    "        # Debug outputs\n",
    "        instances = outputs[\"instances\"].to(\"cpu\")\n",
    "        pred_boxes = instances.pred_boxes\n",
    "        scores = instances.scores\n",
    "        pred_classes = instances.pred_classes\n",
    "        \n",
    "        #print(f\"Image: {image_name}\")\n",
    "        #print(f\"Scores: {scores}\")\n",
    "        #print(f\"Bounding Boxes: {pred_boxes}\")\n",
    "\n",
    "        # Only process if there are valid predictions\n",
    "        if len(scores) == 0:\n",
    "            print(\"No detections found in this image.\")\n",
    "            continue\n",
    "        \n",
    "        # Saving results\n",
    "        results_path = os.path.join(output_folder, f\"{os.path.splitext(image_name)[0]}.txt\")\n",
    "        #print(f\"Saving results to: {results_path}\")\n",
    "        \n",
    "        try:\n",
    "            with open(results_path, \"w\") as f:\n",
    "                f.write(f\"Image: {image_name}\\n\")\n",
    "                f.write(f\"{'Class':<10}{'Score':<10}{'Bounding Box':<30}\\n\")\n",
    "                f.write(\"-\" * 50 + \"\\n\")\n",
    "                for score, box, cls in zip(scores, pred_boxes, pred_classes):\n",
    "                    if score >= prediction_score_threshold:\n",
    "                        #print(f\"Writing detection: Score: {score}, Class: {cls}, Box: {box}\")\n",
    "                        label = class_labels[cls]\n",
    "                        box_str = f\"[{box[0]:.2f}, {box[1]:.2f}, {box[2]:.2f}, {box[3]:.2f}]\"\n",
    "                        f.write(f\"{label:<10}{score:<10.2f}{box_str:<30}\\n\")\n",
    "        except Exception as e:\n",
    "            print(f\"Failed to write to file {results_path}: {e}\")\n",
    "    \n",
    "    print(f\"Done\")\n"
   ]
  },
  {
   "cell_type": "code",
   "execution_count": 3,
   "id": "78bbac36-f24b-4524-82ce-d50d4ebb0190",
   "metadata": {},
   "outputs": [
    {
     "name": "stdout",
     "output_type": "stream",
     "text": [
      "Exception reporting mode: Verbose\n"
     ]
    },
    {
     "name": "stderr",
     "output_type": "stream",
     "text": [
      "The checkpoint state_dict contains keys that are not used by the model:\n",
      "  \u001b[35mroi_heads.mask_head.mask_fcn1.{bias, weight}\u001b[0m\n",
      "  \u001b[35mroi_heads.mask_head.mask_fcn2.{bias, weight}\u001b[0m\n",
      "  \u001b[35mroi_heads.mask_head.mask_fcn3.{bias, weight}\u001b[0m\n",
      "  \u001b[35mroi_heads.mask_head.mask_fcn4.{bias, weight}\u001b[0m\n",
      "  \u001b[35mroi_heads.mask_head.deconv.{bias, weight}\u001b[0m\n",
      "  \u001b[35mroi_heads.mask_head.predictor.{bias, weight}\u001b[0m\n",
      "/usr/local/lib/python3.9/dist-packages/torch/functional.py:445: UserWarning: torch.meshgrid: in an upcoming release, it will be required to pass the indexing argument. (Triggered internally at  ../aten/src/ATen/native/TensorShape.cpp:2157.)\n",
      "  return _VF.meshgrid(tensors, **kwargs)  # type: ignore[attr-defined]\n"
     ]
    },
    {
     "name": "stdout",
     "output_type": "stream",
     "text": [
      "Done\n"
     ]
    }
   ],
   "source": [
    "%xmode verbose\n",
    "\n",
    "detectron_boxes('./val_images','./output')"
   ]
  },
  {
   "cell_type": "code",
   "execution_count": 7,
   "id": "a37616d6-9e71-43d3-9130-9f16c5332d89",
   "metadata": {},
   "outputs": [
    {
     "name": "stdout",
     "output_type": "stream",
     "text": [
      "Items in the current folder (./tf):\n",
      ".ipynb_checkpoints\n",
      "bashrc\n",
      "detectronEval.ipynb\n",
      "docker-compose.yaml\n",
      "gpu.packages.txt\n",
      "gpu.requirements.txt\n",
      "jupyter.Dockerfile\n",
      "jupyter.readme.md\n",
      "jupyter.requirements.txt\n",
      "output\n",
      "PDF_docker_showcase.ipynb\n",
      "setup.cuda.sh\n",
      "setup.jupyter.sh\n",
      "setup.packages.sh\n",
      "setup.python.sh\n",
      "setup.sources.sh\n",
      "test\n",
      "test.import_cpu.sh\n",
      "val_images\n"
     ]
    }
   ],
   "source": [
    "import os\n",
    "\n",
    "# Get the current working directory\n",
    "current_path = './tf'\n",
    "# List all items in the current directory\n",
    "items = os.listdir(current_path)\n",
    "\n",
    "# Print all items\n",
    "print(f\"Items in the current folder ({current_path}):\")\n",
    "for item in items:\n",
    "    print(item)\n",
    "\n"
   ]
  },
  {
   "cell_type": "code",
   "execution_count": null,
   "id": "24c49f93-2a80-4ef3-a435-5a52ec795d26",
   "metadata": {},
   "outputs": [],
   "source": []
  }
 ],
 "metadata": {
  "kernelspec": {
   "display_name": "Python 3 (ipykernel)",
   "language": "python",
   "name": "python3"
  },
  "language_info": {
   "codemirror_mode": {
    "name": "ipython",
    "version": 3
   },
   "file_extension": ".py",
   "mimetype": "text/x-python",
   "name": "python",
   "nbconvert_exporter": "python",
   "pygments_lexer": "ipython3",
   "version": "3.9.5"
  }
 },
 "nbformat": 4,
 "nbformat_minor": 5
}
